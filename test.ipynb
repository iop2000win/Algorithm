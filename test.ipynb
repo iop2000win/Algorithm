{
 "cells": [
  {
   "cell_type": "code",
   "execution_count": null,
   "id": "4fa89f88",
   "metadata": {},
   "outputs": [],
   "source": [
    "# sort\n",
    "# 정렬 종류는? 각 종류들을 모두 구현할 수 있나?\n",
    "# bubble sort\n",
    "# selection sort\n",
    "# insertion sort\n",
    "# heap sort"
   ]
  },
  {
   "cell_type": "code",
   "execution_count": null,
   "id": "671b6b2e",
   "metadata": {},
   "outputs": [],
   "source": []
  }
 ],
 "metadata": {
  "kernelspec": {
   "display_name": "Python 3 (ipykernel)",
   "language": "python",
   "name": "python3"
  },
  "language_info": {
   "codemirror_mode": {
    "name": "ipython",
    "version": 3
   },
   "file_extension": ".py",
   "mimetype": "text/x-python",
   "name": "python",
   "nbconvert_exporter": "python",
   "pygments_lexer": "ipython3",
   "version": "3.11.4"
  }
 },
 "nbformat": 4,
 "nbformat_minor": 5
}
